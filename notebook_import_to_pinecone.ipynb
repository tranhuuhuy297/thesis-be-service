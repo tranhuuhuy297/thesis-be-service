{
 "cells": [
  {
   "cell_type": "code",
   "execution_count": 1,
   "metadata": {},
   "outputs": [
    {
     "name": "stderr",
     "output_type": "stream",
     "text": [
      "/Users/tranhuuhuy297/Projects/thesis/lib/python3.10/site-packages/pinecone/index.py:4: TqdmWarning: IProgress not found. Please update jupyter and ipywidgets. See https://ipywidgets.readthedocs.io/en/stable/user_install.html\n",
      "  from tqdm.autonotebook import tqdm\n",
      "28-07-23 09:41:32 - INFO | Load pretrained SentenceTransformer: paraphrase-multilingual-mpnet-base-v2\n",
      "28-07-23 09:41:36 - INFO | Use pytorch device: cpu\n",
      "28-07-23 09:41:36 - INFO | SQS: ap-southeast-1 | thesis-generate-image\n"
     ]
    }
   ],
   "source": [
    "from util import pinecone_user_prompt\n",
    "from service.image_service import ImageService\n",
    "\n",
    "image_service = ImageService()"
   ]
  },
  {
   "cell_type": "code",
   "execution_count": 2,
   "metadata": {},
   "outputs": [],
   "source": [
    "def import_to_pinecone(list_object):\n",
    "    list_id = [item['id'] for item in list_object]\n",
    "    list_text = [item['prompt'] for item in list_object]\n",
    "    list_metadata = list_object\n",
    "\n",
    "    pinecone_user_prompt.upsert(list_id, list_text, list_metadata)"
   ]
  },
  {
   "cell_type": "code",
   "execution_count": 3,
   "metadata": {},
   "outputs": [],
   "source": [
    "_, count, _, _ = image_service.get_list({})\n",
    "size = 500\n",
    "MAX_PAGE = int(count / size) + 1"
   ]
  },
  {
   "cell_type": "code",
   "execution_count": null,
   "metadata": {},
   "outputs": [],
   "source": [
    "for page in range(MAX_PAGE):\n",
    "    result, _, _, _ = image_service.get_list({}, page=page, size=size)\n",
    "    try:\n",
    "        import_to_pinecone(result)\n",
    "    except:\n",
    "        print('bug in', page)\n",
    "        continue\n",
    "    print('done', page)"
   ]
  }
 ],
 "metadata": {
  "kernelspec": {
   "display_name": "thesis",
   "language": "python",
   "name": "python3"
  },
  "language_info": {
   "codemirror_mode": {
    "name": "ipython",
    "version": 3
   },
   "file_extension": ".py",
   "mimetype": "text/x-python",
   "name": "python",
   "nbconvert_exporter": "python",
   "pygments_lexer": "ipython3",
   "version": "3.10.12"
  },
  "orig_nbformat": 4
 },
 "nbformat": 4,
 "nbformat_minor": 2
}
