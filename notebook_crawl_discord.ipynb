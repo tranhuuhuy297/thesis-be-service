{
 "cells": [
  {
   "cell_type": "code",
   "execution_count": 29,
   "metadata": {},
   "outputs": [],
   "source": [
    "from util.s3_util import S3\n",
    "import requests\n",
    "import json\n",
    "import uuid\n",
    "from util.time_util import get_time_string\n",
    "\n",
    "string_now = get_time_string()\n",
    "DISCORD_TOKEN = 'NzYzNzU3ODQ0NzI1NzYwMDUw.GknV7D.hj4lWVnXgruP1hjiTaIfB2IFEzVrD4J3l9IWh0'\n",
    "\n",
    "s3_discord = S3(bucket_name=f'discord-{string_now}')\n"
   ]
  },
  {
   "cell_type": "code",
   "execution_count": null,
   "metadata": {},
   "outputs": [],
   "source": [
    "# Step 1: crawl save to s3\n",
    "\n",
    "def crawl_message(url):\n",
    "    response = requests.get(url, headers={'Authorization': DISCORD_TOKEN})\n",
    "    print(response)\n",
    "    if response.status_code != 200:\n",
    "        return None\n",
    "    \n",
    "    result = response.json()\n",
    "    id_before = result[-1]['id']\n",
    "\n",
    "    s3_discord.put_object(json.dumps(result), f'{str(uuid.uuid1())}')\n",
    "\n",
    "    return id_before\n",
    "\n",
    "def crawl_channel(channel_id):\n",
    "    url = f'https://discord.com/api/v9/channels/{channel_id}/messages?limit=50'\n",
    "\n",
    "    id_before = crawl_message(url)\n",
    "\n",
    "    if id_before is None:\n",
    "        return\n",
    "\n",
    "    while True:\n",
    "        id_before = crawl_message(url + f'&before={id_before}')\n",
    "        if id_before is None:\n",
    "            break\n",
    "        import time\n",
    "        time.sleep(1)\n",
    "\n",
    "# channel_id = '1008571102328541215' # newbie_127\n",
    "# channel_id = '1008571159043903509' # newbie_157\n",
    "channel_id = '1008571225309728878' # newbie_187\n",
    "crawl_channel(channel_id)"
   ]
  },
  {
   "cell_type": "code",
   "execution_count": 54,
   "metadata": {},
   "outputs": [
    {
     "data": {
      "text/plain": [
       "{'message_id': '1134413285979074601',\n",
       " 'prompt': 'a bulldog icon faces people in the background with an emoji, in the style of playful simplicity, minimalistic, manapunk, innovative page design, disfigured forms, playful ，art of line --ar 27:25',\n",
       " 'image_src': 'https://cdn.discordapp.com/attachments/1008571225309728878/1134413285391863940/michellebaker5043_a_bulldog_icon_faces_people_in_the_background_6daf4286-9fcb-4a7d-b907-17b5b0edefa8.png'}"
      ]
     },
     "execution_count": 54,
     "metadata": {},
     "output_type": "execute_result"
    }
   ],
   "source": [
    "# step2: get objects from s3 and clean\n",
    "\n",
    "def clean_message(msg):\n",
    "    message_id = msg.get('id', None)\n",
    "    # channel_id = msg.get('channel_id', '')\n",
    "    attachments = msg.get('attachments', [])\n",
    "    prompt = msg.get('content', '')\n",
    "    author = msg.get('author', None)\n",
    "    username = author.get('username', '')\n",
    "\n",
    "    if message_id is None \\\n",
    "        or len(attachments) == 0 \\\n",
    "            or username != 'Midjourney Bot' \\\n",
    "        or not prompt \\\n",
    "    or 'Image #' in prompt:\n",
    "        return None\n",
    "\n",
    "    if len(prompt.split('**')) < 2:\n",
    "        return None\n",
    "\n",
    "    clean_prompt = prompt.split('**')[1]\n",
    "\n",
    "    if len(clean_prompt.split()) < 2:\n",
    "        return None\n",
    "\n",
    "    image_src = attachments[0]['url']\n",
    "\n",
    "    return {\n",
    "        'message_id': message_id,\n",
    "        # 'channel_id': channel_id,\n",
    "        'prompt': clean_prompt,\n",
    "        'image_src': image_src\n",
    "    }\n",
    "\n",
    "def get_list_clean_message():\n",
    "    result = []\n",
    "    for obj in s3_discord.get_list_objects():\n",
    "        body = obj.get()['Body'].read()\n",
    "        list_message = json.loads(body)\n",
    "        \n",
    "        for message in list_message:\n",
    "            _clean_message = clean_message(message)\n",
    "            if _clean_message is not None:\n",
    "                result.append(_clean_message)\n",
    "\n",
    "    return result\n",
    "\n",
    "list_clean_message = get_list_clean_message()\n",
    "list_clean_message[0]"
   ]
  },
  {
   "cell_type": "code",
   "execution_count": 59,
   "metadata": {},
   "outputs": [
    {
     "data": {
      "text/plain": [
       "115"
      ]
     },
     "execution_count": 59,
     "metadata": {},
     "output_type": "execute_result"
    }
   ],
   "source": [
    "# step 3: handle duplicate\n",
    "\n",
    "MAX_DUPLICATE_PERCENTAGE = 0.3\n",
    "\n",
    "def calculate_duplicate(sen1, sen2):\n",
    "    list1 = sen1.split()\n",
    "    list2 = sen2.split()\n",
    "\n",
    "    count = 0\n",
    "    for (word1, word2) in zip(list1, list2):\n",
    "        if word1 == word2:\n",
    "            count += 1\n",
    "\n",
    "    duplicate_percent = count / (len(list2) + 1)\n",
    "    return round(duplicate_percent, 3)\n",
    "\n",
    "list_clean_message = get_list_clean_message()\n",
    "list_unique_message = [list_clean_message[0]]\n",
    "\n",
    "for message in list_clean_message:\n",
    "    for unique_message in list_unique_message:\n",
    "        sen1 = unique_message['prompt']\n",
    "        sen2 = message['prompt']\n",
    "\n",
    "        duplicate_percentage = calculate_duplicate(sen1, sen2)\n",
    "\n",
    "        if duplicate_percentage > MAX_DUPLICATE_PERCENTAGE:\n",
    "            break\n",
    "    list_unique_message.append(message)\n",
    "\n",
    "len(list_unique_message)"
   ]
  }
 ],
 "metadata": {
  "kernelspec": {
   "display_name": "thesis",
   "language": "python",
   "name": "python3"
  },
  "language_info": {
   "codemirror_mode": {
    "name": "ipython",
    "version": 3
   },
   "file_extension": ".py",
   "mimetype": "text/x-python",
   "name": "python",
   "nbconvert_exporter": "python",
   "pygments_lexer": "ipython3",
   "version": "3.10.12"
  },
  "orig_nbformat": 4
 },
 "nbformat": 4,
 "nbformat_minor": 2
}
